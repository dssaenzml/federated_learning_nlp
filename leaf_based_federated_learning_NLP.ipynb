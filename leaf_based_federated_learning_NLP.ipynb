{
  "nbformat": 4,
  "nbformat_minor": 0,
  "metadata": {
    "colab": {
      "name": "leaf_based_federated_learning_NLP.ipynb",
      "provenance": [],
      "collapsed_sections": [],
      "toc_visible": true,
      "mount_file_id": "1pyjr-tDNl4Pj44nq3HKn3U4_Q0uNiZLI",
      "authorship_tag": "ABX9TyNz9aWfQDqTjZ1IoHJMM7Hu",
      "include_colab_link": true
    },
    "kernelspec": {
      "name": "python3",
      "display_name": "Python 3"
    }
  },
  "cells": [
    {
      "cell_type": "markdown",
      "metadata": {
        "id": "view-in-github",
        "colab_type": "text"
      },
      "source": [
        "<a href=\"https://colab.research.google.com/github/dssaenzml/federated_learning_nlp/blob/main/leaf_based_federated_learning_NLP.ipynb\" target=\"_parent\"><img src=\"https://colab.research.google.com/assets/colab-badge.svg\" alt=\"Open In Colab\"/></a>"
      ]
    },
    {
      "cell_type": "markdown",
      "metadata": {
        "id": "KUTLQoouWEOY"
      },
      "source": [
        "# Application of Federated Learning\r\n",
        "\r\n",
        "I am going to create an NLP solution using federated learning using three different simulated locations. "
      ]
    },
    {
      "cell_type": "code",
      "metadata": {
        "id": "G1fPArUDWZKV"
      },
      "source": [
        "%%capture\r\n",
        "\r\n",
        "! pip3 install -r /content/drive/MyDrive/Colab Notebooks/federated_learning_nlp/requirements.txt"
      ],
      "execution_count": 2,
      "outputs": []
    },
    {
      "cell_type": "markdown",
      "metadata": {
        "id": "S3DZi1RyWDMO"
      },
      "source": [
        ""
      ]
    }
  ]
}